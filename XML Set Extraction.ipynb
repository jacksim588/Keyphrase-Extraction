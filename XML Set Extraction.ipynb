{
 "cells": [
  {
   "attachments": {},
   "cell_type": "markdown",
   "metadata": {},
   "source": [
    "Ingredients Extractions"
   ]
  },
  {
   "cell_type": "code",
   "execution_count": 1,
   "metadata": {},
   "outputs": [],
   "source": [
    "import xml.etree.ElementTree as ET\n",
    "import os\n",
    "dir = r'F:\\Brandbank\\brandbank'\n",
    "ingredients_out_set = set([])\n",
    "ingredients=[]\n",
    "for path, subdirs, files in os.walk(dir):\n",
    "    for name in files:\n",
    "        if name[-3:] == 'xml':\n",
    "            if name[-3:] == 'xml':\n",
    "                #print(name)\n",
    "                filepath = os.path.join(path, name)\n",
    "                tree = ET.parse(filepath)\n",
    "                root = tree.getroot()\n",
    "                \n",
    "\n",
    "                for statements in root.iter(tag='LongTextItems'):\n",
    "                    statementAttr = statements.attrib\n",
    "                    #print(statementAttr)\n",
    "                    if statementAttr['Name'] == 'Ingredients':\n",
    "                        for statement in statements:\n",
    "                            #ingredients_out_set.add(statement.text)\n",
    "                            ingredients.append(statement.text)\n",
    "                            #print(statement.text)"
   ]
  },
  {
   "cell_type": "code",
   "execution_count": 5,
   "metadata": {},
   "outputs": [
    {
     "data": {
      "text/plain": [
       "986229"
      ]
     },
     "execution_count": 5,
     "metadata": {},
     "output_type": "execute_result"
    }
   ],
   "source": [
    "import re\n",
    "\n",
    "mid_process_ingredients=[]\n",
    "ingredients_post_set= set([])\n",
    "ingredients_post_list=[]\n",
    "with open('data/filler_words.csv', 'r') as fil:\n",
    "    filler_words = [line.rstrip('\\n') for line in fil]\n",
    "\n",
    "for ingredient in ingredients:\n",
    "    if ingredient != None:\n",
    "        #remove everything in brackets\n",
    "        ingredient = re.sub(\"[\\(\\[].*?[\\)\\]]\", \"\", ingredient)\n",
    "        #remove quotation marks\n",
    "        ingredient = ingredient.replace(\"\\\"\",'')\n",
    "        #split into individual ingredients\n",
    "        found_ingredients = re.split(', |\\/.|\\\\| and .',ingredient)\n",
    "        #combine all found ingredients\n",
    "        mid_process_ingredients=mid_process_ingredients+found_ingredients\n",
    "\n",
    "\n",
    "for ingredient in mid_process_ingredients:\n",
    "    ingredient = re.sub(\"\\d+% ?\", \"\",ingredient)\n",
    "\n",
    "    resultwords  = [word for word in re.split(\"\\W+\",ingredient) if word.lower() not in filler_words]\n",
    "    ingredient = ' '.join(resultwords)\n",
    "    ingredient=ingredient.strip()\n",
    "    ingredient=ingredient.lower()\n",
    "    #ingredients_post_set.add(ingredient)\n",
    "    ingredients_post_list.append(ingredient)\n",
    "\n",
    "len(ingredients_post_list)   "
   ]
  },
  {
   "cell_type": "code",
   "execution_count": 6,
   "metadata": {},
   "outputs": [],
   "source": [
    "import pandas as pd\n",
    "ingredients_post_list = list(ingredients_post_set)\n",
    "df = pd.DataFrame({'Ingredients':ingredients_post_list})\n",
    "df.to_csv('Ingredients Post List.csv',index='False')"
   ]
  },
  {
   "attachments": {},
   "cell_type": "markdown",
   "metadata": {},
   "source": [
    "Lifestyle Extraction"
   ]
  },
  {
   "cell_type": "code",
   "execution_count": 3,
   "metadata": {},
   "outputs": [
    {
     "ename": "KeyboardInterrupt",
     "evalue": "",
     "output_type": "error",
     "traceback": [
      "\u001b[1;31m---------------------------------------------------------------------------\u001b[0m",
      "\u001b[1;31mKeyboardInterrupt\u001b[0m                         Traceback (most recent call last)",
      "\u001b[1;32m<ipython-input-3-daa9dfac08ed>\u001b[0m in \u001b[0;36m<module>\u001b[1;34m\u001b[0m\n\u001b[0;32m      9\u001b[0m                 \u001b[1;31m#print(name)\u001b[0m\u001b[1;33m\u001b[0m\u001b[1;33m\u001b[0m\u001b[1;33m\u001b[0m\u001b[0m\n\u001b[0;32m     10\u001b[0m                 \u001b[0mfilepath\u001b[0m \u001b[1;33m=\u001b[0m \u001b[0mos\u001b[0m\u001b[1;33m.\u001b[0m\u001b[0mpath\u001b[0m\u001b[1;33m.\u001b[0m\u001b[0mjoin\u001b[0m\u001b[1;33m(\u001b[0m\u001b[0mpath\u001b[0m\u001b[1;33m,\u001b[0m \u001b[0mname\u001b[0m\u001b[1;33m)\u001b[0m\u001b[1;33m\u001b[0m\u001b[1;33m\u001b[0m\u001b[0m\n\u001b[1;32m---> 11\u001b[1;33m                 \u001b[0mtree\u001b[0m \u001b[1;33m=\u001b[0m \u001b[0mET\u001b[0m\u001b[1;33m.\u001b[0m\u001b[0mparse\u001b[0m\u001b[1;33m(\u001b[0m\u001b[0mfilepath\u001b[0m\u001b[1;33m)\u001b[0m\u001b[1;33m\u001b[0m\u001b[1;33m\u001b[0m\u001b[0m\n\u001b[0m\u001b[0;32m     12\u001b[0m                 \u001b[0mroot\u001b[0m \u001b[1;33m=\u001b[0m \u001b[0mtree\u001b[0m\u001b[1;33m.\u001b[0m\u001b[0mgetroot\u001b[0m\u001b[1;33m(\u001b[0m\u001b[1;33m)\u001b[0m\u001b[1;33m\u001b[0m\u001b[1;33m\u001b[0m\u001b[0m\n\u001b[0;32m     13\u001b[0m \u001b[1;33m\u001b[0m\u001b[0m\n",
      "\u001b[1;32m~\\AppData\\Local\\Programs\\Python\\Python37-32(64bit)\\lib\\xml\\etree\\ElementTree.py\u001b[0m in \u001b[0;36mparse\u001b[1;34m(source, parser)\u001b[0m\n\u001b[0;32m   1195\u001b[0m     \"\"\"\n\u001b[0;32m   1196\u001b[0m     \u001b[0mtree\u001b[0m \u001b[1;33m=\u001b[0m \u001b[0mElementTree\u001b[0m\u001b[1;33m(\u001b[0m\u001b[1;33m)\u001b[0m\u001b[1;33m\u001b[0m\u001b[1;33m\u001b[0m\u001b[0m\n\u001b[1;32m-> 1197\u001b[1;33m     \u001b[0mtree\u001b[0m\u001b[1;33m.\u001b[0m\u001b[0mparse\u001b[0m\u001b[1;33m(\u001b[0m\u001b[0msource\u001b[0m\u001b[1;33m,\u001b[0m \u001b[0mparser\u001b[0m\u001b[1;33m)\u001b[0m\u001b[1;33m\u001b[0m\u001b[1;33m\u001b[0m\u001b[0m\n\u001b[0m\u001b[0;32m   1198\u001b[0m     \u001b[1;32mreturn\u001b[0m \u001b[0mtree\u001b[0m\u001b[1;33m\u001b[0m\u001b[1;33m\u001b[0m\u001b[0m\n\u001b[0;32m   1199\u001b[0m \u001b[1;33m\u001b[0m\u001b[0m\n",
      "\u001b[1;32m~\\AppData\\Local\\Programs\\Python\\Python37-32(64bit)\\lib\\xml\\etree\\ElementTree.py\u001b[0m in \u001b[0;36mparse\u001b[1;34m(self, source, parser)\u001b[0m\n\u001b[0;32m    585\u001b[0m         \u001b[0mclose_source\u001b[0m \u001b[1;33m=\u001b[0m \u001b[1;32mFalse\u001b[0m\u001b[1;33m\u001b[0m\u001b[1;33m\u001b[0m\u001b[0m\n\u001b[0;32m    586\u001b[0m         \u001b[1;32mif\u001b[0m \u001b[1;32mnot\u001b[0m \u001b[0mhasattr\u001b[0m\u001b[1;33m(\u001b[0m\u001b[0msource\u001b[0m\u001b[1;33m,\u001b[0m \u001b[1;34m\"read\"\u001b[0m\u001b[1;33m)\u001b[0m\u001b[1;33m:\u001b[0m\u001b[1;33m\u001b[0m\u001b[1;33m\u001b[0m\u001b[0m\n\u001b[1;32m--> 587\u001b[1;33m             \u001b[0msource\u001b[0m \u001b[1;33m=\u001b[0m \u001b[0mopen\u001b[0m\u001b[1;33m(\u001b[0m\u001b[0msource\u001b[0m\u001b[1;33m,\u001b[0m \u001b[1;34m\"rb\"\u001b[0m\u001b[1;33m)\u001b[0m\u001b[1;33m\u001b[0m\u001b[1;33m\u001b[0m\u001b[0m\n\u001b[0m\u001b[0;32m    588\u001b[0m             \u001b[0mclose_source\u001b[0m \u001b[1;33m=\u001b[0m \u001b[1;32mTrue\u001b[0m\u001b[1;33m\u001b[0m\u001b[1;33m\u001b[0m\u001b[0m\n\u001b[0;32m    589\u001b[0m         \u001b[1;32mtry\u001b[0m\u001b[1;33m:\u001b[0m\u001b[1;33m\u001b[0m\u001b[1;33m\u001b[0m\u001b[0m\n",
      "\u001b[1;31mKeyboardInterrupt\u001b[0m: "
     ]
    }
   ],
   "source": [
    "import xml.etree.ElementTree as ET\n",
    "import os\n",
    "dir = r'F:\\Brandbank\\brandbank'\n",
    "lifestyle_out_set = set([])\n",
    "for path, subdirs, files in os.walk(dir):\n",
    "    for name in files:\n",
    "        if name[-3:] == 'xml':\n",
    "            if name[-3:] == 'xml':\n",
    "                #print(name)\n",
    "                filepath = os.path.join(path, name)\n",
    "                tree = ET.parse(filepath)\n",
    "                root = tree.getroot()\n",
    "                \n",
    "\n",
    "                for statements in root.iter(tag='Statements'):\n",
    "                    statementAttr = statements.attrib\n",
    "                    #print(statementAttr)\n",
    "                    if statementAttr['Name'] == 'Lifestyle':\n",
    "                        for statement in statements:\n",
    "                            lifestyle_out_set.add(statement.text)\n",
    "                            #print(statement.text)"
   ]
  },
  {
   "cell_type": "code",
   "execution_count": null,
   "metadata": {},
   "outputs": [],
   "source": [
    "import pandas as pd\n",
    "lifestyle_out_list = list(lifestyle_out_set)\n",
    "df = pd.DataFrame({'Lifestyle':lifestyle_out_list})\n",
    "df.to_csv('Data/Sets/Lifestyle List.csv',index='False')"
   ]
  },
  {
   "attachments": {},
   "cell_type": "markdown",
   "metadata": {},
   "source": [
    "CLP Regulations"
   ]
  },
  {
   "cell_type": "code",
   "execution_count": null,
   "metadata": {},
   "outputs": [],
   "source": [
    "import xml.etree.ElementTree as ET\n",
    "import os\n",
    "dir = r'F:\\Brandbank\\brandbank'\n",
    "CLP_out_set = set([])\n",
    "for path, subdirs, files in os.walk(dir):\n",
    "    for name in files:\n",
    "        if name[-3:] == 'xml':\n",
    "            #print(name)\n",
    "            filepath = os.path.join(path, name)\n",
    "            tree = ET.parse(filepath)\n",
    "            root = tree.getroot()\n",
    "            \n",
    "\n",
    "            for namelookups in root.iter(tag='NameLookups'):\n",
    "                namelookupsAttr = namelookups.attrib\n",
    "                if namelookupsAttr['Name'] == 'CLP Regulation':\n",
    "                    for namelookup in namelookups:\n",
    "                        CLPChildren = namelookup.getchildren()\n",
    "                        for CLP in CLPChildren:\n",
    "                            CLP_out_set.add(CLP.text)\n",
    "            "
   ]
  },
  {
   "cell_type": "code",
   "execution_count": null,
   "metadata": {},
   "outputs": [],
   "source": [
    "import pandas as pd\n",
    "CLP_out_list = list(CLP_out_set)\n",
    "df = pd.DataFrame({'CLP':CLP_out_list})\n",
    "df.to_csv('Data/Sets/CLP List.csv',index='False')"
   ]
  }
 ],
 "metadata": {
  "kernelspec": {
   "display_name": "my_env",
   "language": "python",
   "name": "python3"
  },
  "language_info": {
   "codemirror_mode": {
    "name": "ipython",
    "version": 3
   },
   "file_extension": ".py",
   "mimetype": "text/x-python",
   "name": "python",
   "nbconvert_exporter": "python",
   "pygments_lexer": "ipython3",
   "version": "3.7.6"
  },
  "orig_nbformat": 4
 },
 "nbformat": 4,
 "nbformat_minor": 2
}
