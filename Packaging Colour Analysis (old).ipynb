{
 "cells": [
  {
   "cell_type": "markdown",
   "metadata": {},
   "source": [
    "Average green levels in pixels"
   ]
  },
  {
   "cell_type": "code",
   "execution_count": 20,
   "metadata": {},
   "outputs": [],
   "source": [
    "from PIL import Image\n",
    "import numpy as np\n",
    "\n",
    "def calculate_green_average(image_path):\n",
    "    # Open the image file\n",
    "    img = Image.open(image_path)\n",
    "    # Convert the image to RGB (if not already in that format)\n",
    "    img = img.convert('RGB')\n",
    "    # Convert the image to a numpy array\n",
    "    img_array = np.array(img)\n",
    "    # Extract the green channel\n",
    "    green_channel = img_array[:, :, 1]\n",
    "    # Calculate the average green value\n",
    "    avg_green = np.mean(green_channel)\n",
    "    return avg_green\n"
   ]
  },
  {
   "cell_type": "code",
   "execution_count": 27,
   "metadata": {},
   "outputs": [
    {
     "data": {
      "text/plain": [
       "239.770752"
      ]
     },
     "execution_count": 27,
     "metadata": {},
     "output_type": "execute_result"
    }
   ],
   "source": [
    "calculate_green_average(r\"E:\\Brandbank\\brandbank\\8710522806326\\9263182.jpg\")"
   ]
  },
  {
   "cell_type": "code",
   "execution_count": 26,
   "metadata": {},
   "outputs": [
    {
     "data": {
      "text/plain": [
       "237.060592"
      ]
     },
     "execution_count": 26,
     "metadata": {},
     "output_type": "execute_result"
    }
   ],
   "source": [
    "calculate_green_average(r\"E:\\Brandbank\\brandbank\\8710522806326\\10763101.jpg\")\n"
   ]
  },
  {
   "cell_type": "code",
   "execution_count": 28,
   "metadata": {},
   "outputs": [],
   "source": [
    "from PIL import Image\n",
    "import numpy as np\n",
    "\n",
    "def calculate_green_proportion(image_path):\n",
    "    # Open the image file\n",
    "    img = Image.open(image_path)\n",
    "    # Convert the image to RGB (if not already in that format)\n",
    "    img = img.convert('RGB')\n",
    "    # Convert the image to a numpy array\n",
    "    img_array = np.array(img)\n",
    "\n",
    "    # Set a threshold for what you consider as 'green'\n",
    "    # This is a simplistic threshold that considers a pixel green\n",
    "    # if the green channel value is greater than both red and blue by a certain margin\n",
    "    green_threshold = 50\n",
    "\n",
    "    # Calculate the green proportion\n",
    "    green_pixels = np.where((img_array[:, :, 1] > img_array[:, :, 0] + green_threshold) &\n",
    "                            (img_array[:, :, 1] > img_array[:, :, 2] + green_threshold))\n",
    "    green_proportion = green_pixels[0].size / img_array[:, :, 1].size\n",
    "\n",
    "    return green_proportion\n",
    "\n"
   ]
  },
  {
   "cell_type": "code",
   "execution_count": 42,
   "metadata": {},
   "outputs": [],
   "source": [
    "from PIL import Image\n",
    "import numpy as np\n",
    "\n",
    "def calculate_green_score(image_path):\n",
    "    \"\"\"\n",
    "    Calculate the \"greenness\" score of an image by averaging the green channel values.\n",
    "    The score is normalized by the total number of pixels and the maximum color value (255).\n",
    "    \n",
    "    Parameters:\n",
    "    image_path (str): The path to the image file.\n",
    "    \n",
    "    Returns:\n",
    "    float: The greenness score of the image.\n",
    "    \"\"\"\n",
    "    # Open the image file\n",
    "    with Image.open(image_path) as img:\n",
    "        # Convert the image to RGB (if not already in that format)\n",
    "        rgb_image = img.convert('RGB')\n",
    "        \n",
    "        # Convert the image to a numpy array\n",
    "        image_array = np.array(rgb_image)\n",
    "        \n",
    "        # Extract the green channel\n",
    "        green_channel = image_array[:, :, 1]\n",
    "        \n",
    "        # Calculate the mean of the green channel\n",
    "        mean_green = np.mean(green_channel)\n",
    "        \n",
    "        # Normalize the score by the total number of pixels and the maximum color value\n",
    "        green_score = mean_green / (255 * image_array.size / 3)\n",
    "        \n",
    "        return green_score\n"
   ]
  },
  {
   "cell_type": "code",
   "execution_count": 45,
   "metadata": {},
   "outputs": [
    {
     "data": {
      "text/plain": [
       "1.4619980298039214e-05"
      ]
     },
     "execution_count": 45,
     "metadata": {},
     "output_type": "execute_result"
    }
   ],
   "source": [
    "calculate_green_score(r\"E:\\Brandbank\\brandbank\\8710908764844\\4300561.jpg\")"
   ]
  },
  {
   "cell_type": "code",
   "execution_count": 47,
   "metadata": {},
   "outputs": [
    {
     "data": {
      "text/plain": [
       "1.4715600815686274e-05"
      ]
     },
     "execution_count": 47,
     "metadata": {},
     "output_type": "execute_result"
    }
   ],
   "source": [
    "calculate_green_score(r\"E:\\Brandbank\\brandbank\\8710908764844\\9263684.jpg\")"
   ]
  },
  {
   "cell_type": "code",
   "execution_count": 46,
   "metadata": {},
   "outputs": [
    {
     "data": {
      "text/plain": [
       "1.4840006776470588e-05"
      ]
     },
     "execution_count": 46,
     "metadata": {},
     "output_type": "execute_result"
    }
   ],
   "source": [
    "calculate_green_score(r\"E:\\Brandbank\\brandbank\\8710908764844\\12490451.jpg\")"
   ]
  },
  {
   "cell_type": "code",
   "execution_count": 50,
   "metadata": {},
   "outputs": [
    {
     "data": {
      "text/plain": [
       "(0.1056853115254413, 0.11996656829461319)"
      ]
     },
     "execution_count": 50,
     "metadata": {},
     "output_type": "execute_result"
    }
   ],
   "source": [
    "from skimage import color\n",
    "\n",
    "def calculate_advanced_green_score(image_path):\n",
    "    \"\"\"\n",
    "    Calculate an advanced \"greenness\" score of an image by considering not only the green channel\n",
    "    but also the saturation and value of the green in the HSV color space. This might give a better\n",
    "    approximation of how green an image appears to the human eye.\n",
    "    \n",
    "    Parameters:\n",
    "    image_path (str): The path to the image file.\n",
    "    \n",
    "    Returns:\n",
    "    float: The advanced greenness score of the image.\n",
    "    \"\"\"\n",
    "    # Open the image file\n",
    "    with Image.open(image_path) as img:\n",
    "        # Convert the image to RGB (if not already in that format)\n",
    "        rgb_image = img.convert('RGB')\n",
    "        \n",
    "        # Convert the image to a numpy array\n",
    "        image_array = np.array(rgb_image)\n",
    "        \n",
    "        # Convert the RGB image to HSV\n",
    "        hsv_image = color.rgb2hsv(image_array)\n",
    "        \n",
    "        # Extract the hue, saturation, and value channels\n",
    "        hue_channel = hsv_image[:, :, 0]\n",
    "        saturation_channel = hsv_image[:, :, 1]\n",
    "        value_channel = hsv_image[:, :, 2]\n",
    "        \n",
    "        # Define a range for \"green\" in the hue channel (roughly from 90° to 150° in the HSV color wheel)\n",
    "        green_hue_min = 90 / 360  # Normalize to [0, 1]\n",
    "        green_hue_max = 150 / 360  # Normalize to [0, 1]\n",
    "        \n",
    "        # Create a mask for green regions in the image\n",
    "        green_mask = np.logical_and(hue_channel >= green_hue_min, hue_channel <= green_hue_max)\n",
    "        \n",
    "        # Calculate the score as the product of saturation and value (brightness) for green regions\n",
    "        green_score = np.mean(saturation_channel[green_mask] * value_channel[green_mask])\n",
    "        \n",
    "        return green_score\n",
    "\n",
    "# Calculate the advanced greenness score for both images\n",
    "adv_green_score_1 = calculate_advanced_green_score(r\"E:\\Brandbank\\brandbank\\8710908764844\\9263684.jpg\")\n",
    "adv_green_score_2 = calculate_advanced_green_score(r\"E:\\Brandbank\\brandbank\\8710908764844\\12490451.jpg\")\n",
    "\n",
    "adv_green_score_1, adv_green_score_2\n"
   ]
  },
  {
   "cell_type": "code",
   "execution_count": 52,
   "metadata": {},
   "outputs": [
    {
     "data": {
      "text/plain": [
       "(0.042416, 0.042352)"
      ]
     },
     "execution_count": 52,
     "metadata": {},
     "output_type": "execute_result"
    }
   ],
   "source": [
    "def calculate_weighted_green_area_score(image_path):\n",
    "    \"\"\"\n",
    "    Calculate a weighted greenness score that puts more emphasis on the green areas rather than the intensity.\n",
    "    This is done by counting the number of pixels that fall within the green hue range in the HSV color space.\n",
    "    \n",
    "    Parameters:\n",
    "    image_path (str): The path to the image file.\n",
    "    \n",
    "    Returns:\n",
    "    float: The weighted green area score of the image.\n",
    "    \"\"\"\n",
    "    # Open the image file\n",
    "    with Image.open(image_path) as img:\n",
    "        # Convert the image to RGB (if not already in that format)\n",
    "        rgb_image = img.convert('RGB')\n",
    "        \n",
    "        # Convert the image to a numpy array\n",
    "        image_array = np.array(rgb_image)\n",
    "        \n",
    "        # Convert the RGB image to HSV\n",
    "        hsv_image = color.rgb2hsv(image_array)\n",
    "        \n",
    "        # Extract the hue, saturation, and value channels\n",
    "        hue_channel = hsv_image[:, :, 0]\n",
    "        \n",
    "        # Define a range for \"green\" in the hue channel (roughly from 90° to 150° in the HSV color wheel)\n",
    "        green_hue_min = 90 / 360  # Normalize to [0, 1]\n",
    "        green_hue_max = 150 / 360  # Normalize to [0, 1]\n",
    "        \n",
    "        # Create a mask for green regions in the image\n",
    "        green_mask = np.logical_and(hue_channel >= green_hue_min, hue_channel <= green_hue_max)\n",
    "        \n",
    "        # Calculate the score as the number of green pixels normalized by the total number of pixels\n",
    "        green_area_score = np.sum(green_mask) / green_mask.size\n",
    "        \n",
    "        return green_area_score\n",
    "\n",
    "# Calculate the weighted green area score for both images\n",
    "weighted_green_area_score_2 = calculate_weighted_green_area_score(r\"E:\\Brandbank\\brandbank\\8710908764844\\9263684.jpg\")\n",
    "\n",
    "weighted_green_area_score_1 = calculate_weighted_green_area_score(r\"E:\\Brandbank\\brandbank\\8710908764844\\12490451.jpg\")\n",
    "\n",
    "weighted_green_area_score_1, weighted_green_area_score_2"
   ]
  },
  {
   "cell_type": "code",
   "execution_count": 54,
   "metadata": {},
   "outputs": [
    {
     "name": "stdout",
     "output_type": "stream",
     "text": [
      "getting subdirectories\n",
      "initializing progress bar\n"
     ]
    },
    {
     "name": "stderr",
     "output_type": "stream",
     "text": [
      "  0%|          | 4/464455 [00:00<4:46:26, 27.02it/s]"
     ]
    },
    {
     "name": "stdout",
     "output_type": "stream",
     "text": [
      "begging score extraction\n"
     ]
    },
    {
     "name": "stderr",
     "output_type": "stream",
     "text": [
      "  0%|          | 232/464455 [00:07<3:39:56, 35.18it/s]c:\\Users\\Jack\\AppData\\Local\\Programs\\Python\\Python312\\Lib\\site-packages\\numpy\\core\\fromnumeric.py:3504: RuntimeWarning: Mean of empty slice.\n",
      "  return _methods._mean(a, axis=axis, dtype=dtype,\n",
      "c:\\Users\\Jack\\AppData\\Local\\Programs\\Python\\Python312\\Lib\\site-packages\\numpy\\core\\_methods.py:129: RuntimeWarning: invalid value encountered in scalar divide\n",
      "  ret = ret.dtype.type(ret / rcount)\n",
      "100%|█████████▉| 464448/464455 [6:27:48<00:00, 31.22it/s]   "
     ]
    },
    {
     "ename": "PermissionError",
     "evalue": "[WinError 5] Access is denied: 'E:\\\\Brandbank\\\\brandbank\\\\lost+found'",
     "output_type": "error",
     "traceback": [
      "\u001b[1;31m---------------------------------------------------------------------------\u001b[0m",
      "\u001b[1;31mPermissionError\u001b[0m                           Traceback (most recent call last)",
      "Cell \u001b[1;32mIn[54], line 51\u001b[0m\n\u001b[0;32m     48\u001b[0m         writer\u001b[38;5;241m.\u001b[39mwriterows(results)\n\u001b[0;32m     50\u001b[0m \u001b[38;5;66;03m# Call the function with a sample directory path (replace with your actual directory path)\u001b[39;00m\n\u001b[1;32m---> 51\u001b[0m \u001b[43mcalculate_green_scores_for_directory\u001b[49m\u001b[43m(\u001b[49m\u001b[38;5;124;43mr\u001b[39;49m\u001b[38;5;124;43m'\u001b[39;49m\u001b[38;5;124;43mE:\u001b[39;49m\u001b[38;5;124;43m\\\u001b[39;49m\u001b[38;5;124;43mBrandbank\u001b[39;49m\u001b[38;5;124;43m\\\u001b[39;49m\u001b[38;5;124;43mbrandbank\u001b[39;49m\u001b[38;5;124;43m'\u001b[39;49m\u001b[43m)\u001b[49m\n",
      "Cell \u001b[1;32mIn[54], line 25\u001b[0m, in \u001b[0;36mcalculate_green_scores_for_directory\u001b[1;34m(directory)\u001b[0m\n\u001b[0;32m     22\u001b[0m \u001b[38;5;66;03m# Go through each subdirectory\u001b[39;00m\n\u001b[0;32m     23\u001b[0m \u001b[38;5;28;01mfor\u001b[39;00m subdir \u001b[38;5;129;01min\u001b[39;00m subdirectories:\n\u001b[0;32m     24\u001b[0m     \u001b[38;5;66;03m# Get all jpg files in this subdirectory\u001b[39;00m\n\u001b[1;32m---> 25\u001b[0m     \u001b[38;5;28;01mfor\u001b[39;00m file \u001b[38;5;129;01min\u001b[39;00m \u001b[43mos\u001b[49m\u001b[38;5;241;43m.\u001b[39;49m\u001b[43mlistdir\u001b[49m\u001b[43m(\u001b[49m\u001b[43msubdir\u001b[49m\u001b[43m)\u001b[49m:\n\u001b[0;32m     26\u001b[0m         \u001b[38;5;28;01mif\u001b[39;00m file\u001b[38;5;241m.\u001b[39mlower()\u001b[38;5;241m.\u001b[39mendswith(\u001b[38;5;124m'\u001b[39m\u001b[38;5;124m.jpg\u001b[39m\u001b[38;5;124m'\u001b[39m):\n\u001b[0;32m     27\u001b[0m             file_path \u001b[38;5;241m=\u001b[39m os\u001b[38;5;241m.\u001b[39mpath\u001b[38;5;241m.\u001b[39mjoin(subdir, file)\n",
      "\u001b[1;31mPermissionError\u001b[0m: [WinError 5] Access is denied: 'E:\\\\Brandbank\\\\brandbank\\\\lost+found'"
     ]
    },
    {
     "name": "stderr",
     "output_type": "stream",
     "text": [
      "100%|█████████▉| 464451/464455 [6:28:03<00:00, 31.22it/s]"
     ]
    }
   ],
   "source": [
    "import os\n",
    "import csv\n",
    "from tqdm import tqdm\n",
    "\n",
    "def calculate_green_scores_for_directory(directory):\n",
    "    \"\"\"\n",
    "    Go through all subfolders in the provided directory, find all jpg files, and calculate their green scores.\n",
    "    Store the results in a CSV file.\n",
    "\n",
    "    Parameters:\n",
    "    directory (str): The path to the main folder containing subfolders with jpg images.\n",
    "    \"\"\"\n",
    "    # List to hold all the results\n",
    "    results = []\n",
    "    print('getting subdirectories')\n",
    "    # Get all the subdirectories in the provided directory\n",
    "    subdirectories = [os.path.join(directory, d) for d in os.listdir(directory) if os.path.isdir(os.path.join(directory, d))]\n",
    "    print('initializing progress bar')\n",
    "    # Initialize a progress bar\n",
    "    pbar = tqdm(total=len(subdirectories))\n",
    "    print('begging score extraction')\n",
    "    # Go through each subdirectory\n",
    "    for subdir in subdirectories:\n",
    "        # Get all jpg files in this subdirectory\n",
    "        for file in os.listdir(subdir):\n",
    "            if file.lower().endswith('.jpg'):\n",
    "                file_path = os.path.join(subdir, file)\n",
    "                \n",
    "                # Calculate the advanced green score and weighted green area score\n",
    "                # Functions 'calculate_advanced_green_score' and 'calculate_weighted_green_area_score' should be defined\n",
    "                advanced_green_score = calculate_advanced_green_score(file_path)\n",
    "                weighted_green_area_score = calculate_weighted_green_area_score(file_path)\n",
    "\n",
    "                # Append the results to the list\n",
    "                results.append([file, advanced_green_score, weighted_green_area_score])\n",
    "\n",
    "        # Update the progress bar\n",
    "        pbar.update(1)\n",
    "\n",
    "    # Close the progress bar\n",
    "    pbar.close()\n",
    "\n",
    "    # Write results to a CSV file\n",
    "    csv_filename = os.path.join(directory, 'green_scores.csv')\n",
    "    with open(csv_filename, 'w', newline='') as csvfile:\n",
    "        writer = csv.writer(csvfile)\n",
    "        writer.writerow(['File Name', 'Advanced Green Score', 'Weighted Green Area Score'])\n",
    "        writer.writerows(results)\n",
    "\n",
    "# Call the function with a sample directory path (replace with your actual directory path)\n",
    "calculate_green_scores_for_directory(r'E:\\Brandbank\\brandbank')"
   ]
  },
  {
   "cell_type": "code",
   "execution_count": 56,
   "metadata": {},
   "outputs": [
    {
     "name": "stdout",
     "output_type": "stream",
     "text": [
      "getting subdirectories\n",
      "initializing progress bar\n"
     ]
    },
    {
     "name": "stderr",
     "output_type": "stream",
     "text": []
    },
    {
     "name": "stdout",
     "output_type": "stream",
     "text": [
      "begging score extraction\n"
     ]
    },
    {
     "name": "stderr",
     "output_type": "stream",
     "text": []
    },
    {
     "ename": "PermissionError",
     "evalue": "[WinError 5] Access is denied: 'E:\\\\Brandbank\\\\brandbank\\\\lost+found'",
     "output_type": "error",
     "traceback": [
      "\u001b[1;31m---------------------------------------------------------------------------\u001b[0m",
      "\u001b[1;31mPermissionError\u001b[0m                           Traceback (most recent call last)",
      "Cell \u001b[1;32mIn[56], line 51\u001b[0m\n\u001b[0;32m     48\u001b[0m         pbar\u001b[38;5;241m.\u001b[39mclose()\n\u001b[0;32m     50\u001b[0m \u001b[38;5;66;03m# This function should be called with the directory path in your local environment.\u001b[39;00m\n\u001b[1;32m---> 51\u001b[0m \u001b[43mcalculate_green_scores_for_directory\u001b[49m\u001b[43m(\u001b[49m\u001b[38;5;124;43mr\u001b[39;49m\u001b[38;5;124;43m'\u001b[39;49m\u001b[38;5;124;43mE:\u001b[39;49m\u001b[38;5;124;43m\\\u001b[39;49m\u001b[38;5;124;43mBrandbank\u001b[39;49m\u001b[38;5;124;43m\\\u001b[39;49m\u001b[38;5;124;43mbrandbank\u001b[39;49m\u001b[38;5;124;43m'\u001b[39;49m\u001b[43m)\u001b[49m\n",
      "Cell \u001b[1;32mIn[56], line 32\u001b[0m, in \u001b[0;36mcalculate_green_scores_for_directory\u001b[1;34m(directory)\u001b[0m\n\u001b[0;32m     29\u001b[0m \u001b[38;5;66;03m# Go through each subdirectory\u001b[39;00m\n\u001b[0;32m     30\u001b[0m \u001b[38;5;28;01mfor\u001b[39;00m subdir \u001b[38;5;129;01min\u001b[39;00m subdirectories:\n\u001b[0;32m     31\u001b[0m     \u001b[38;5;66;03m# Get all jpg files in this subdirectory\u001b[39;00m\n\u001b[1;32m---> 32\u001b[0m     \u001b[38;5;28;01mfor\u001b[39;00m file \u001b[38;5;129;01min\u001b[39;00m \u001b[43mos\u001b[49m\u001b[38;5;241;43m.\u001b[39;49m\u001b[43mlistdir\u001b[49m\u001b[43m(\u001b[49m\u001b[43msubdir\u001b[49m\u001b[43m)\u001b[49m:\n\u001b[0;32m     33\u001b[0m         \u001b[38;5;28;01mif\u001b[39;00m file\u001b[38;5;241m.\u001b[39mlower()\u001b[38;5;241m.\u001b[39mendswith(\u001b[38;5;124m'\u001b[39m\u001b[38;5;124m.jpg\u001b[39m\u001b[38;5;124m'\u001b[39m):\n\u001b[0;32m     34\u001b[0m             file_path \u001b[38;5;241m=\u001b[39m os\u001b[38;5;241m.\u001b[39mpath\u001b[38;5;241m.\u001b[39mjoin(subdir, file)\n",
      "\u001b[1;31mPermissionError\u001b[0m: [WinError 5] Access is denied: 'E:\\\\Brandbank\\\\brandbank\\\\lost+found'"
     ]
    },
    {
     "name": "stderr",
     "output_type": "stream",
     "text": []
    }
   ],
   "source": [
    "import os\n",
    "import csv\n",
    "from tqdm import tqdm\n",
    "\n",
    "def calculate_green_scores_for_directory(directory):\n",
    "    \"\"\"\n",
    "    Go through all subfolders in the provided directory, find all jpg files, and calculate their green scores.\n",
    "    The results are written to a CSV file as they are calculated to prevent data loss in case of a crash.\n",
    "\n",
    "    Parameters:\n",
    "    directory (str): The path to the main folder containing subfolders with jpg images.\n",
    "    \"\"\"\n",
    "    # CSV file for writing the results\n",
    "    csv_filename = os.path.join(directory, r'G:\\$00-Work\\green_scores.csv')\n",
    "\n",
    "    # Open the CSV file for writing\n",
    "    with open(csv_filename, 'w', newline='') as csvfile:\n",
    "        writer = csv.writer(csvfile)\n",
    "        # Write the header row\n",
    "        writer.writerow(['File Name', 'Advanced Green Score', 'Weighted Green Area Score'])\n",
    "        print('getting subdirectories')\n",
    "        # Get all the subdirectories in the provided directory\n",
    "        subdirectories = [os.path.join(directory, d) for d in os.listdir(directory) if os.path.isdir(os.path.join(directory, d))]\n",
    "        print('initializing progress bar')\n",
    "        \n",
    "        # Initialize a progress bar\n",
    "        pbar = tqdm(total=len(subdirectories))\n",
    "        print('begging score extraction')\n",
    "        # Go through each subdirectory\n",
    "        for subdir in subdirectories:\n",
    "            # Get all jpg files in this subdirectory\n",
    "            for file in os.listdir(subdir):\n",
    "                if file.lower().endswith('.jpg'):\n",
    "                    file_path = os.path.join(subdir, file)\n",
    "                    \n",
    "                    # Calculate the advanced green score and weighted green area score\n",
    "                    # Functions 'calculate_advanced_green_score' and 'calculate_weighted_green_area_score' should be defined\n",
    "                    advanced_green_score = calculate_advanced_green_score(file_path)\n",
    "                    weighted_green_area_score = calculate_weighted_green_area_score(file_path)\n",
    "\n",
    "                    # Write the results to the CSV file immediately\n",
    "                    writer.writerow([file, advanced_green_score, weighted_green_area_score])\n",
    "\n",
    "            # Update the progress bar\n",
    "            pbar.update(1)\n",
    "\n",
    "        # Close the progress bar\n",
    "        pbar.close()\n",
    "\n",
    "# This function should be called with the directory path in your local environment.\n",
    "calculate_green_scores_for_directory(r'E:\\Brandbank\\brandbank')\n"
   ]
  },
  {
   "cell_type": "code",
   "execution_count": 2,
   "metadata": {},
   "outputs": [
    {
     "data": {
      "text/html": [
       "<div>\n",
       "<style scoped>\n",
       "    .dataframe tbody tr th:only-of-type {\n",
       "        vertical-align: middle;\n",
       "    }\n",
       "\n",
       "    .dataframe tbody tr th {\n",
       "        vertical-align: top;\n",
       "    }\n",
       "\n",
       "    .dataframe thead th {\n",
       "        text-align: right;\n",
       "    }\n",
       "</style>\n",
       "<table border=\"1\" class=\"dataframe\">\n",
       "  <thead>\n",
       "    <tr style=\"text-align: right;\">\n",
       "      <th></th>\n",
       "      <th>product_id</th>\n",
       "      <th>date</th>\n",
       "      <th>promotion</th>\n",
       "    </tr>\n",
       "  </thead>\n",
       "  <tbody>\n",
       "    <tr>\n",
       "      <th>1</th>\n",
       "      <td>1</td>\n",
       "      <td>2021-01-01</td>\n",
       "      <td>Discount</td>\n",
       "    </tr>\n",
       "    <tr>\n",
       "      <th>3</th>\n",
       "      <td>2</td>\n",
       "      <td>2021-01-02</td>\n",
       "      <td>Special Offer</td>\n",
       "    </tr>\n",
       "    <tr>\n",
       "      <th>4</th>\n",
       "      <td>3</td>\n",
       "      <td>2021-01-03</td>\n",
       "      <td>None</td>\n",
       "    </tr>\n",
       "  </tbody>\n",
       "</table>\n",
       "</div>"
      ],
      "text/plain": [
       "   product_id        date      promotion\n",
       "1           1  2021-01-01       Discount\n",
       "3           2  2021-01-02  Special Offer\n",
       "4           3  2021-01-03           None"
      ]
     },
     "execution_count": 2,
     "metadata": {},
     "output_type": "execute_result"
    }
   ],
   "source": [
    "import pandas as pd\n",
    "dataset = pd.DataFrame({\n",
    "     'product_id': [1, 1, 2, 2, 3],\n",
    "     'date': ['2021-01-01', '2021-01-01', '2021-01-02', '2021-01-02', '2021-01-03'],\n",
    "     'promotion': [None, 'Discount', None, 'Special Offer', None]\n",
    "})\n",
    "\n",
    "duplicate_columns = [col for col in dataset.columns if col != 'promotion']\n",
    "\n",
    "# Mark rows as duplicates based on specified columns, keeping the first occurrence.\n",
    "dataset['is_duplicate'] = dataset.duplicated(subset=duplicate_columns, keep=False)\n",
    "\n",
    "# Within duplicates, mark rows with a non-empty 'promotion'.\n",
    "dataset['has_promotion'] = dataset['promotion'].notna()\n",
    "\n",
    "# Conditions to remove a row:\n",
    "# 1. The row is marked as a duplicate.\n",
    "# 2. The row does not have a promotion.\n",
    "# Rows to keep:\n",
    "# 1. Not a duplicate.\n",
    "# 2. Is a duplicate but has a promotion.\n",
    "# 3. Is a duplicate, does not have a promotion, but there's no other row with the same identifiers that has a promotion.\n",
    "conditions_to_remove = (dataset['is_duplicate'] & ~dataset['has_promotion'] & \n",
    "                        dataset.duplicated(subset=duplicate_columns, keep=False))\n",
    "\n",
    "# Filter out rows that do not meet the removal conditions.\n",
    "dataset = dataset[~conditions_to_remove].drop(columns=['is_duplicate', 'has_promotion'])\n",
    "dataset"
   ]
  }
 ],
 "metadata": {
  "kernelspec": {
   "display_name": "Python 3",
   "language": "python",
   "name": "python3"
  },
  "language_info": {
   "codemirror_mode": {
    "name": "ipython",
    "version": 3
   },
   "file_extension": ".py",
   "mimetype": "text/x-python",
   "name": "python",
   "nbconvert_exporter": "python",
   "pygments_lexer": "ipython3",
   "version": "3.12.1"
  }
 },
 "nbformat": 4,
 "nbformat_minor": 2
}
