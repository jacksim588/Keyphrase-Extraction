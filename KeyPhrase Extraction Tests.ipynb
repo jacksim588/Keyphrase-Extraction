{
 "cells": [
  {
   "cell_type": "markdown",
   "metadata": {},
   "source": [
    "Preprocess data"
   ]
  },
  {
   "cell_type": "code",
   "execution_count": 1,
   "metadata": {},
   "outputs": [],
   "source": [
    "import pandas as pd\n",
    "from tqdm import tqdm\n",
    "import csv"
   ]
  },
  {
   "cell_type": "code",
   "execution_count": 2,
   "metadata": {},
   "outputs": [],
   "source": [
    "brandbankExtract = r'Data\\LatestProducts.csv'"
   ]
  },
  {
   "cell_type": "code",
   "execution_count": 3,
   "metadata": {},
   "outputs": [
    {
     "data": {
      "text/html": [
       "<div>\n",
       "<style scoped>\n",
       "    .dataframe tbody tr th:only-of-type {\n",
       "        vertical-align: middle;\n",
       "    }\n",
       "\n",
       "    .dataframe tbody tr th {\n",
       "        vertical-align: top;\n",
       "    }\n",
       "\n",
       "    .dataframe thead th {\n",
       "        text-align: right;\n",
       "    }\n",
       "</style>\n",
       "<table border=\"1\" class=\"dataframe\">\n",
       "  <thead>\n",
       "    <tr style=\"text-align: right;\">\n",
       "      <th></th>\n",
       "      <th>category</th>\n",
       "      <th>text</th>\n",
       "    </tr>\n",
       "  </thead>\n",
       "  <tbody>\n",
       "    <tr>\n",
       "      <th>0</th>\n",
       "      <td>Fruit_&amp;_Vegetables</td>\n",
       "      <td>essential waitrose leeks loose    waitrose</td>\n",
       "    </tr>\n",
       "    <tr>\n",
       "      <th>1</th>\n",
       "      <td>Fruit_&amp;_Vegetables</td>\n",
       "      <td>loose peach    unbranded</td>\n",
       "    </tr>\n",
       "    <tr>\n",
       "      <th>2</th>\n",
       "      <td>Fruit_&amp;_Vegetables</td>\n",
       "      <td>asda sweet potato    asda</td>\n",
       "    </tr>\n",
       "    <tr>\n",
       "      <th>4</th>\n",
       "      <td>Deli</td>\n",
       "      <td>wr gateaux each</td>\n",
       "    </tr>\n",
       "    <tr>\n",
       "      <th>6</th>\n",
       "      <td>Grocery</td>\n",
       "      <td>waitrose oatmeal and sultana cookie    waitros...</td>\n",
       "    </tr>\n",
       "  </tbody>\n",
       "</table>\n",
       "</div>"
      ],
      "text/plain": [
       "             category                                               text\n",
       "0  Fruit_&_Vegetables    essential waitrose leeks loose    waitrose     \n",
       "1  Fruit_&_Vegetables                      loose peach    unbranded     \n",
       "2  Fruit_&_Vegetables                     asda sweet potato    asda     \n",
       "4                Deli                           wr gateaux each         \n",
       "6             Grocery  waitrose oatmeal and sultana cookie    waitros..."
      ]
     },
     "execution_count": 3,
     "metadata": {},
     "output_type": "execute_result"
    }
   ],
   "source": [
    "df = pd.read_csv(brandbankExtract)\n",
    "df=df.fillna('')\n",
    "df = df[df['isDelete'] != 1]\n",
    "df['text'] = df[[\n",
    "    'description',\n",
    "    'allergyAdvice',\n",
    "    'recycling',\n",
    "    'recycling_other',\n",
    "    'brands',\n",
    "    'marketing',\n",
    "    'ingredients',\n",
    "    'features',\n",
    "    'storage',\n",
    "    'preserves']].agg(' '.join, axis=1)\n",
    "df=df.drop(['name','gtin','isDelete'\n",
    "    ,'pl2','pl3',\n",
    "    'description',\n",
    "    'allergyAdvice',\n",
    "    'recycling',\n",
    "    'recycling_other',\n",
    "    'brands',\n",
    "    'marketing',\n",
    "    'ingredients',\n",
    "    'features',\n",
    "    'storage',\n",
    "    'preserves'],axis=1)\n",
    "df.rename({'pl1':'category'},axis=1, inplace=True)\n",
    "df.drop(df[df['category'] =='Kruidenierswaren'].index, inplace=True)#onyl 1 example of this so dropping for simplicity\n",
    "df['category'] = df['category'].str.replace(\" \", \"_\")\n",
    "#df = df[df['category'] != '']\n",
    "df = df[df['category'] != 'Unallocated']\n",
    "df['text'] = df['text'].str.lower()\n",
    "df.head()"
   ]
  },
  {
   "cell_type": "markdown",
   "metadata": {},
   "source": [
    "RAKE_NLTK"
   ]
  },
  {
   "cell_type": "code",
   "execution_count": 4,
   "metadata": {},
   "outputs": [],
   "source": [
    "from rake_nltk import Rake\n",
    "import nltk"
   ]
  },
  {
   "cell_type": "code",
   "execution_count": 5,
   "metadata": {},
   "outputs": [],
   "source": [
    "#nltk.download('stopwords') #Only needs to be run once to download stop words"
   ]
  },
  {
   "cell_type": "code",
   "execution_count": 6,
   "metadata": {},
   "outputs": [],
   "source": [
    "def get_num_words(row):\n",
    "    return len(str(row['Phrase']).split())\n",
    "\n",
    "def get_perc_phrase(row,total):\n",
    "    return (float(row['Score'])/total*100)"
   ]
  },
  {
   "cell_type": "code",
   "execution_count": 7,
   "metadata": {},
   "outputs": [],
   "source": [
    "def get_Rake_phrases(df):\n",
    "    r = Rake()\n",
    "    r.extract_keywords_from_sentences(df['text'])\n",
    "    phrases=r.get_ranked_phrases_with_scores()\n",
    "    df = pd.DataFrame(phrases, columns = ['Rank', 'Phrase'])\n",
    "    df['Phrase'] = df['Phrase'].str.strip()\n",
    "    phrase_counts = df['Phrase'].value_counts()\n",
    "    phrase_counts = phrase_counts.reset_index()\n",
    "    phrase_counts.columns=['Phrase','Score']\n",
    "    phrase_counts['Length'] = phrase_counts.apply (lambda row: get_num_words(row), axis=1)\n",
    "    phrase_counts=phrase_counts.loc[phrase_counts['Length'] <=6]\n",
    "    total = float(phrase_counts['Score'].sum())\n",
    "    phrase_counts['Perc'] = phrase_counts.apply (lambda row: get_perc_phrase(row,total), axis=1)\n",
    "    return phrase_counts"
   ]
  },
  {
   "cell_type": "code",
   "execution_count": 8,
   "metadata": {},
   "outputs": [],
   "source": [
    "df_raked = get_Rake_phrases(df)\n",
    "#phrase_counts.to_csv(r'C:\\Users\\Clamfighter\\Documents\\GitHub\\NLP\\Impact Score Key Phrase\\Extracted Phrases\\Rake NLTK\\Brandbank Latest Phrase Extraction.csv',index = False)"
   ]
  },
  {
   "cell_type": "code",
   "execution_count": 9,
   "metadata": {},
   "outputs": [
    {
     "data": {
      "text/html": [
       "<div>\n",
       "<style scoped>\n",
       "    .dataframe tbody tr th:only-of-type {\n",
       "        vertical-align: middle;\n",
       "    }\n",
       "\n",
       "    .dataframe tbody tr th {\n",
       "        vertical-align: top;\n",
       "    }\n",
       "\n",
       "    .dataframe thead th {\n",
       "        text-align: right;\n",
       "    }\n",
       "</style>\n",
       "<table border=\"1\" class=\"dataframe\">\n",
       "  <thead>\n",
       "    <tr style=\"text-align: right;\">\n",
       "      <th></th>\n",
       "      <th>Phrase</th>\n",
       "      <th>Score</th>\n",
       "      <th>Length</th>\n",
       "      <th>Perc</th>\n",
       "    </tr>\n",
       "  </thead>\n",
       "  <tbody>\n",
       "    <tr>\n",
       "      <th>0</th>\n",
       "      <td>contains</td>\n",
       "      <td>7928</td>\n",
       "      <td>1</td>\n",
       "      <td>1.076919</td>\n",
       "    </tr>\n",
       "    <tr>\n",
       "      <th>1</th>\n",
       "      <td>may contain</td>\n",
       "      <td>5579</td>\n",
       "      <td>2</td>\n",
       "      <td>0.757837</td>\n",
       "    </tr>\n",
       "    <tr>\n",
       "      <th>2</th>\n",
       "      <td>suitable</td>\n",
       "      <td>5158</td>\n",
       "      <td>1</td>\n",
       "      <td>0.700650</td>\n",
       "    </tr>\n",
       "    <tr>\n",
       "      <th>3</th>\n",
       "      <td>salt</td>\n",
       "      <td>4711</td>\n",
       "      <td>1</td>\n",
       "      <td>0.639930</td>\n",
       "    </tr>\n",
       "    <tr>\n",
       "      <th>4</th>\n",
       "      <td>sugar</td>\n",
       "      <td>4652</td>\n",
       "      <td>1</td>\n",
       "      <td>0.631916</td>\n",
       "    </tr>\n",
       "    <tr>\n",
       "      <th>...</th>\n",
       "      <td>...</td>\n",
       "      <td>...</td>\n",
       "      <td>...</td>\n",
       "      <td>...</td>\n",
       "    </tr>\n",
       "    <tr>\n",
       "      <th>172741</th>\n",
       "      <td>1 %), dried herbs</td>\n",
       "      <td>1</td>\n",
       "      <td>4</td>\n",
       "      <td>0.000136</td>\n",
       "    </tr>\n",
       "    <tr>\n",
       "      <th>172742</th>\n",
       "      <td>1 %), skimmed cows</td>\n",
       "      <td>1</td>\n",
       "      <td>4</td>\n",
       "      <td>0.000136</td>\n",
       "    </tr>\n",
       "    <tr>\n",
       "      <th>172743</th>\n",
       "      <td>parsley ), natural flavourings</td>\n",
       "      <td>1</td>\n",
       "      <td>4</td>\n",
       "      <td>0.000136</td>\n",
       "    </tr>\n",
       "    <tr>\n",
       "      <th>172744</th>\n",
       "      <td>tasty honey mustard sauce</td>\n",
       "      <td>1</td>\n",
       "      <td>4</td>\n",
       "      <td>0.000136</td>\n",
       "    </tr>\n",
       "    <tr>\n",
       "      <th>172745</th>\n",
       "      <td>\"[</td>\n",
       "      <td>1</td>\n",
       "      <td>1</td>\n",
       "      <td>0.000136</td>\n",
       "    </tr>\n",
       "  </tbody>\n",
       "</table>\n",
       "<p>159701 rows × 4 columns</p>\n",
       "</div>"
      ],
      "text/plain": [
       "                                Phrase  Score  Length      Perc\n",
       "0                             contains   7928       1  1.076919\n",
       "1                          may contain   5579       2  0.757837\n",
       "2                             suitable   5158       1  0.700650\n",
       "3                                 salt   4711       1  0.639930\n",
       "4                                sugar   4652       1  0.631916\n",
       "...                                ...    ...     ...       ...\n",
       "172741               1 %), dried herbs      1       4  0.000136\n",
       "172742              1 %), skimmed cows      1       4  0.000136\n",
       "172743  parsley ), natural flavourings      1       4  0.000136\n",
       "172744       tasty honey mustard sauce      1       4  0.000136\n",
       "172745                              \"[      1       1  0.000136\n",
       "\n",
       "[159701 rows x 4 columns]"
      ]
     },
     "execution_count": 9,
     "metadata": {},
     "output_type": "execute_result"
    }
   ],
   "source": [
    "df_raked"
   ]
  },
  {
   "cell_type": "code",
   "execution_count": 10,
   "metadata": {},
   "outputs": [
    {
     "name": "stderr",
     "output_type": "stream",
     "text": [
      " 10%|▉         | 5088/51606 [01:27<12:53, 60.16it/s]"
     ]
    }
   ],
   "source": [
    "phrase_count=[]\n",
    "\n",
    "df_phraseCount = df_raked.loc[df_raked['Score'] != 1] #filters Score of 1 out. will be added back in later\n",
    "phrases = df_phraseCount['Phrase']\n",
    "text = df['text']\n",
    "for phrase in tqdm(phrases): #find number of phrases for all strings\n",
    "    phrase_count.append(sum(phrase in s for s in text))\n",
    "phrase_count"
   ]
  },
  {
   "cell_type": "code",
   "execution_count": null,
   "metadata": {},
   "outputs": [
    {
     "name": "stderr",
     "output_type": "stream",
     "text": [
      "C:\\Users\\admin_1878\\AppData\\Local\\Temp\\ipykernel_11008\\2573982755.py:1: SettingWithCopyWarning: \n",
      "A value is trying to be set on a copy of a slice from a DataFrame.\n",
      "Try using .loc[row_indexer,col_indexer] = value instead\n",
      "\n",
      "See the caveats in the documentation: https://pandas.pydata.org/pandas-docs/stable/user_guide/indexing.html#returning-a-view-versus-a-copy\n",
      "  df_phraseCount['Count'] = phrase_count\n",
      "C:\\Users\\admin_1878\\AppData\\Local\\Temp\\ipykernel_11008\\2573982755.py:2: SettingWithCopyWarning: \n",
      "A value is trying to be set on a copy of a slice from a DataFrame\n",
      "\n",
      "See the caveats in the documentation: https://pandas.pydata.org/pandas-docs/stable/user_guide/indexing.html#returning-a-view-versus-a-copy\n",
      "  df_phraseCount.drop(['Score','Length','Perc'],axis=1, inplace=True)\n"
     ]
    },
    {
     "data": {
      "text/html": [
       "<div>\n",
       "<style scoped>\n",
       "    .dataframe tbody tr th:only-of-type {\n",
       "        vertical-align: middle;\n",
       "    }\n",
       "\n",
       "    .dataframe tbody tr th {\n",
       "        vertical-align: top;\n",
       "    }\n",
       "\n",
       "    .dataframe thead th {\n",
       "        text-align: right;\n",
       "    }\n",
       "</style>\n",
       "<table border=\"1\" class=\"dataframe\">\n",
       "  <thead>\n",
       "    <tr style=\"text-align: right;\">\n",
       "      <th></th>\n",
       "      <th>Phrase</th>\n",
       "      <th>Score</th>\n",
       "      <th>Length</th>\n",
       "      <th>Perc</th>\n",
       "      <th>Count</th>\n",
       "    </tr>\n",
       "  </thead>\n",
       "  <tbody>\n",
       "    <tr>\n",
       "      <th>0</th>\n",
       "      <td>contains</td>\n",
       "      <td>46090</td>\n",
       "      <td>1</td>\n",
       "      <td>1.043119</td>\n",
       "      <td>46566.0</td>\n",
       "    </tr>\n",
       "    <tr>\n",
       "      <th>1</th>\n",
       "      <td>free</td>\n",
       "      <td>27964</td>\n",
       "      <td>1</td>\n",
       "      <td>0.632888</td>\n",
       "      <td>28091.0</td>\n",
       "    </tr>\n",
       "    <tr>\n",
       "      <th>2</th>\n",
       "      <td>may contain</td>\n",
       "      <td>27856</td>\n",
       "      <td>2</td>\n",
       "      <td>0.630443</td>\n",
       "      <td>14558.0</td>\n",
       "    </tr>\n",
       "    <tr>\n",
       "      <th>3</th>\n",
       "      <td>suitable</td>\n",
       "      <td>26888</td>\n",
       "      <td>1</td>\n",
       "      <td>0.608535</td>\n",
       "      <td>32327.0</td>\n",
       "    </tr>\n",
       "    <tr>\n",
       "      <th>4</th>\n",
       "      <td>sugar</td>\n",
       "      <td>25511</td>\n",
       "      <td>1</td>\n",
       "      <td>0.577371</td>\n",
       "      <td>33710.0</td>\n",
       "    </tr>\n",
       "    <tr>\n",
       "      <th>...</th>\n",
       "      <td>...</td>\n",
       "      <td>...</td>\n",
       "      <td>...</td>\n",
       "      <td>...</td>\n",
       "      <td>...</td>\n",
       "    </tr>\n",
       "    <tr>\n",
       "      <th>500458</th>\n",
       "      <td>best fighting units</td>\n",
       "      <td>1</td>\n",
       "      <td>3</td>\n",
       "      <td>0.000023</td>\n",
       "      <td>1.0</td>\n",
       "    </tr>\n",
       "    <tr>\n",
       "      <th>500459</th>\n",
       "      <td>piers morgan unbranded piers morgan</td>\n",
       "      <td>1</td>\n",
       "      <td>5</td>\n",
       "      <td>0.000023</td>\n",
       "      <td>1.0</td>\n",
       "    </tr>\n",
       "    <tr>\n",
       "      <th>500460</th>\n",
       "      <td>extremely perilous christmas</td>\n",
       "      <td>1</td>\n",
       "      <td>3</td>\n",
       "      <td>0.000023</td>\n",
       "      <td>1.0</td>\n",
       "    </tr>\n",
       "    <tr>\n",
       "      <th>500461</th>\n",
       "      <td>trifles unbranded</td>\n",
       "      <td>1</td>\n",
       "      <td>2</td>\n",
       "      <td>0.000023</td>\n",
       "      <td>1.0</td>\n",
       "    </tr>\n",
       "    <tr>\n",
       "      <th>500462</th>\n",
       "      <td>holly smale unbranded</td>\n",
       "      <td>1</td>\n",
       "      <td>3</td>\n",
       "      <td>0.000023</td>\n",
       "      <td>1.0</td>\n",
       "    </tr>\n",
       "  </tbody>\n",
       "</table>\n",
       "<p>500463 rows × 5 columns</p>\n",
       "</div>"
      ],
      "text/plain": [
       "                                     Phrase  Score  Length      Perc    Count\n",
       "0                                  contains  46090       1  1.043119  46566.0\n",
       "1                                      free  27964       1  0.632888  28091.0\n",
       "2                               may contain  27856       2  0.630443  14558.0\n",
       "3                                  suitable  26888       1  0.608535  32327.0\n",
       "4                                     sugar  25511       1  0.577371  33710.0\n",
       "...                                     ...    ...     ...       ...      ...\n",
       "500458                  best fighting units      1       3  0.000023      1.0\n",
       "500459  piers morgan unbranded piers morgan      1       5  0.000023      1.0\n",
       "500460         extremely perilous christmas      1       3  0.000023      1.0\n",
       "500461                    trifles unbranded      1       2  0.000023      1.0\n",
       "500462                holly smale unbranded      1       3  0.000023      1.0\n",
       "\n",
       "[500463 rows x 5 columns]"
      ]
     },
     "execution_count": 10,
     "metadata": {},
     "output_type": "execute_result"
    }
   ],
   "source": [
    "df_phraseCount['Count'] = phrase_count\n",
    "df_phraseCount.drop(['Score','Length','Perc'],axis=1, inplace=True)\n",
    "df_out = df_raked.merge(df_phraseCount, on='Phrase', how='left')\n",
    "df_out.fillna(1,inplace=True)\n",
    "df_out"
   ]
  },
  {
   "cell_type": "code",
   "execution_count": null,
   "metadata": {},
   "outputs": [
    {
     "ename": "NameError",
     "evalue": "name 'df_out' is not defined",
     "output_type": "error",
     "traceback": [
      "\u001b[1;31m---------------------------------------------------------------------------\u001b[0m",
      "\u001b[1;31mNameError\u001b[0m                                 Traceback (most recent call last)",
      "Cell \u001b[1;32mIn[1], line 1\u001b[0m\n\u001b[1;32m----> 1\u001b[0m \u001b[43mdf_out\u001b[49m\u001b[38;5;241m.\u001b[39mto_csv(\u001b[38;5;124mr\u001b[39m\u001b[38;5;124m'\u001b[39m\u001b[38;5;124mout_lower.csv\u001b[39m\u001b[38;5;124m'\u001b[39m,index \u001b[38;5;241m=\u001b[39m \u001b[38;5;28;01mFalse\u001b[39;00m)\n",
      "\u001b[1;31mNameError\u001b[0m: name 'df_out' is not defined"
     ]
    }
   ],
   "source": [
    "#df_out.to_csv(r'out_lower.csv',index = False)"
   ]
  }
 ],
 "metadata": {
  "kernelspec": {
   "display_name": "Python 3 (ipykernel)",
   "language": "python",
   "name": "python3"
  },
  "language_info": {
   "codemirror_mode": {
    "name": "ipython",
    "version": 3
   },
   "file_extension": ".py",
   "mimetype": "text/x-python",
   "name": "python",
   "nbconvert_exporter": "python",
   "pygments_lexer": "ipython3",
   "version": "3.10.7"
  },
  "vscode": {
   "interpreter": {
    "hash": "26de051ba29f2982a8de78e945f0abaf191376122a1563185a90213a26c5da77"
   }
  }
 },
 "nbformat": 4,
 "nbformat_minor": 2
}
